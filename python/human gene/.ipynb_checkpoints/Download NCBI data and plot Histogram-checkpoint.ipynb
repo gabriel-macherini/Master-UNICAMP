{
 "cells": [
  {
   "cell_type": "code",
   "execution_count": 1,
   "id": "3b60c9cf",
   "metadata": {},
   "outputs": [],
   "source": [
    "from Bio import SeqIO\n",
    "import pandas as pd\n",
    "import gzip\n",
    "import os\n",
    "from ftplib import FTP\n",
    "import matplotlib.pyplot as plt"
   ]
  },
  {
   "cell_type": "markdown",
   "id": "03714942",
   "metadata": {},
   "source": [
    "# Download all the NCBI Human Protein Data\n",
    "\n",
    "The NCBI FTP server has the most updated data from human proteins"
   ]
  },
  {
   "cell_type": "code",
   "execution_count": 59,
   "id": "f9322eee",
   "metadata": {},
   "outputs": [
    {
     "name": "stdout",
     "output_type": "stream",
     "text": [
      "Downloaded human.5.protein.faa.gz\n",
      "Downloaded human.3.protein.faa.gz\n",
      "Downloaded human.2.protein.faa.gz\n",
      "Downloaded human.4.protein.faa.gz\n",
      "Downloaded human.9.protein.faa.gz\n",
      "Downloaded human.12.protein.faa.gz\n",
      "Downloaded human.11.protein.faa.gz\n",
      "Downloaded human.1.protein.faa.gz\n",
      "Downloaded human.8.protein.faa.gz\n",
      "Downloaded human.6.protein.faa.gz\n",
      "Downloaded human.7.protein.faa.gz\n",
      "Downloaded human.10.protein.faa.gz\n",
      "Downloaded human.13.protein.faa.gz\n"
     ]
    },
    {
     "data": {
      "text/plain": [
       "'221 Goodbye.'"
      ]
     },
     "execution_count": 59,
     "metadata": {},
     "output_type": "execute_result"
    }
   ],
   "source": [
    "# FTP URL\n",
    "ftp_url = \"ftp.ncbi.nih.gov\"\n",
    "ftp_directory = \"/refseq/H_sapiens/mRNA_Prot\"\n",
    "\n",
    "# Directory to store the downloaded files\n",
    "output_dir = \"protein_files\"\n",
    "\n",
    "# Create the output directory if it doesn't exist\n",
    "os.makedirs(output_dir, exist_ok=True)\n",
    "\n",
    "# Connect to the FTP server\n",
    "ftp = FTP(ftp_url)\n",
    "ftp.login()\n",
    "\n",
    "# Change to the directory containing the files\n",
    "ftp.cwd(ftp_directory)\n",
    "\n",
    "# Retrieve the file listing\n",
    "file_listing = ftp.nlst()\n",
    "\n",
    "# Download the files\n",
    "for filename in file_listing:\n",
    "    if filename.endswith(\".protein.faa.gz\"):\n",
    "        output_path = os.path.join(output_dir, filename)\n",
    "        with open(output_path, \"wb\") as file:\n",
    "            ftp.retrbinary(\"RETR \" + filename, file.write)\n",
    "        print(f\"Downloaded {filename}\")\n",
    "\n",
    "# Disconnect from the FTP server\n",
    "ftp.quit()"
   ]
  },
  {
   "cell_type": "code",
   "execution_count": 2,
   "id": "2121107b",
   "metadata": {
    "scrolled": true
   },
   "outputs": [
    {
     "data": {
      "text/html": [
       "<div>\n",
       "<style scoped>\n",
       "    .dataframe tbody tr th:only-of-type {\n",
       "        vertical-align: middle;\n",
       "    }\n",
       "\n",
       "    .dataframe tbody tr th {\n",
       "        vertical-align: top;\n",
       "    }\n",
       "\n",
       "    .dataframe thead th {\n",
       "        text-align: right;\n",
       "    }\n",
       "</style>\n",
       "<table border=\"1\" class=\"dataframe\">\n",
       "  <thead>\n",
       "    <tr style=\"text-align: right;\">\n",
       "      <th></th>\n",
       "      <th>seq_id</th>\n",
       "      <th>description</th>\n",
       "      <th>sequence</th>\n",
       "    </tr>\n",
       "  </thead>\n",
       "  <tbody>\n",
       "    <tr>\n",
       "      <th>0</th>\n",
       "      <td>NP_001355183.1</td>\n",
       "      <td>NP_001355183.1 killer cell immunoglobulin-like...</td>\n",
       "      <td>MLLMVVSMACVGLFLVQRAGPHMGGQDKPFLSAWPSAVVPRGGHVT...</td>\n",
       "    </tr>\n",
       "    <tr>\n",
       "      <th>1</th>\n",
       "      <td>NP_001337906.1</td>\n",
       "      <td>NP_001337906.1 putative keratin-associated pro...</td>\n",
       "      <td>MSYYSHLSGGLGCGLAVAVTMGRTVAVAEYGRCRHGCHSSYSAR</td>\n",
       "    </tr>\n",
       "    <tr>\n",
       "      <th>2</th>\n",
       "      <td>NP_001243796.1</td>\n",
       "      <td>NP_001243796.1 ubiquitin specific peptidase 17...</td>\n",
       "      <td>MEDDSLYLRGEWQFNHFSKLTSSRPDAAFAEIQRTSLPEKSPLSCE...</td>\n",
       "    </tr>\n",
       "    <tr>\n",
       "      <th>3</th>\n",
       "      <td>NP_001229257.1</td>\n",
       "      <td>NP_001229257.1 ubiquitin specific peptidase 17...</td>\n",
       "      <td>MEDDSLYLRGEWQFNHFSKLTSSRPDAAFAEIQRTSLPEKSPLSCE...</td>\n",
       "    </tr>\n",
       "    <tr>\n",
       "      <th>4</th>\n",
       "      <td>NP_001243802.1</td>\n",
       "      <td>NP_001243802.1 ubiquitin carboxyl-terminal hyd...</td>\n",
       "      <td>MGDDSLYLGGEWQFNHFSKLTSSRPDAAFAEIQRTSLPEKSPLSSE...</td>\n",
       "    </tr>\n",
       "  </tbody>\n",
       "</table>\n",
       "</div>"
      ],
      "text/plain": [
       "           seq_id                                        description  \\\n",
       "0  NP_001355183.1  NP_001355183.1 killer cell immunoglobulin-like...   \n",
       "1  NP_001337906.1  NP_001337906.1 putative keratin-associated pro...   \n",
       "2  NP_001243796.1  NP_001243796.1 ubiquitin specific peptidase 17...   \n",
       "3  NP_001229257.1  NP_001229257.1 ubiquitin specific peptidase 17...   \n",
       "4  NP_001243802.1  NP_001243802.1 ubiquitin carboxyl-terminal hyd...   \n",
       "\n",
       "                                            sequence  \n",
       "0  MLLMVVSMACVGLFLVQRAGPHMGGQDKPFLSAWPSAVVPRGGHVT...  \n",
       "1       MSYYSHLSGGLGCGLAVAVTMGRTVAVAEYGRCRHGCHSSYSAR  \n",
       "2  MEDDSLYLRGEWQFNHFSKLTSSRPDAAFAEIQRTSLPEKSPLSCE...  \n",
       "3  MEDDSLYLRGEWQFNHFSKLTSSRPDAAFAEIQRTSLPEKSPLSCE...  \n",
       "4  MGDDSLYLGGEWQFNHFSKLTSSRPDAAFAEIQRTSLPEKSPLSSE...  "
      ]
     },
     "execution_count": 2,
     "metadata": {},
     "output_type": "execute_result"
    }
   ],
   "source": [
    "# Directory path where the .faa.gz files are located\n",
    "directory = \"protein_files\"\n",
    "\n",
    "# Create empty lists to store the data\n",
    "seq_ids = []\n",
    "seq_descriptions = []\n",
    "seq_sequences = []\n",
    "\n",
    "# Iterate over the files in the directory\n",
    "for filename in os.listdir(directory):\n",
    "    if filename.endswith(\".faa.gz\"):\n",
    "        filepath = os.path.join(directory, filename)\n",
    "        \n",
    "        # Open the compressed file using gzip\n",
    "        with gzip.open(filepath, \"rt\") as file:\n",
    "            # Parse the sequences in the file\n",
    "            sequences = SeqIO.parse(file, \"fasta\")\n",
    "\n",
    "            # Access and process each sequence\n",
    "            for sequence in sequences:\n",
    "                # Extract information from the sequence\n",
    "                seq_ids.append(sequence.id)\n",
    "                seq_descriptions.append(sequence.description)\n",
    "                seq_sequences.append(str(sequence.seq))\n",
    "\n",
    "# Create a pandas DataFrame\n",
    "data = {\n",
    "    'seq_id': seq_ids,\n",
    "    'description': seq_descriptions,\n",
    "    'sequence': seq_sequences\n",
    "}\n",
    "df = pd.DataFrame(data)\n",
    "df.head()"
   ]
  },
  {
   "cell_type": "markdown",
   "id": "56189c86",
   "metadata": {},
   "source": [
    "# Processing"
   ]
  },
  {
   "cell_type": "code",
   "execution_count": 3,
   "id": "f12908c0",
   "metadata": {},
   "outputs": [
    {
     "name": "stdout",
     "output_type": "stream",
     "text": [
      "df with duplicates:  (199390, 4)\n",
      "df without duplicates:  (103846, 4)\n"
     ]
    }
   ],
   "source": [
    "# remove the Sequence ID from description\n",
    "df['description'] = df.apply(lambda row: row['description'].replace(row['seq_id'], ''), axis=1)\n",
    "\n",
    "# create the lenght protein column\n",
    "df['length'] = df['sequence'].apply(len)\n",
    "\n",
    "# remove duplicates protein sequences\n",
    "df_clean =df.drop_duplicates(subset='sequence')\n",
    "print(\"df with duplicates: \", df.shape)\n",
    "print(\"df without duplicates: \", df_clean.shape)"
   ]
  },
  {
   "cell_type": "code",
   "execution_count": 148,
   "id": "a262ba32",
   "metadata": {},
   "outputs": [],
   "source": [
    "os.makedirs(\"csv\", exist_ok=True)\n",
    "df.to_csv('csv/human_protein_sequence.csv')\n",
    "df_clean.to_csv('csv/human_protein_sequence_without_duplicates.csv')"
   ]
  },
  {
   "cell_type": "markdown",
   "id": "237cc9fb",
   "metadata": {},
   "source": [
    "# Human Protein Length Histogram"
   ]
  },
  {
   "cell_type": "code",
   "execution_count": null,
   "id": "c0b1ddfe",
   "metadata": {},
   "outputs": [],
   "source": [
    "df_clean = pd.read_csv('csv/human_protein_sequence_without_duplicates.csv')"
   ]
  },
  {
   "cell_type": "code",
   "execution_count": 6,
   "id": "6af08eeb",
   "metadata": {},
   "outputs": [
    {
     "data": {
      "image/png": "[encoded data removed]",
      "text/plain": [
       "<Figure size 640x480 with 1 Axes>"
      ]
     },
     "metadata": {},
     "output_type": "display_data"
    }
   ],
   "source": [
    "# Set the bin edges for the histogram\n",
    "bin_edges = range(0, 5500, 25)  # Bin edges from 0 to 5500 with a step of 25\n",
    "\n",
    "# Plot the histogram with custom bin edges\n",
    "plt.hist(df_clean['length'], bins=bin_edges, alpha=0.7)\n",
    "plt.xlabel('Length(in aa)')\n",
    "plt.ylabel('Frequency')\n",
    "plt.title('Distribution of Human Protein Length (NCBI data)')\n",
    "\n",
    "# Add vertical lines and legends\n",
    "plt.axvline(x=690, color='r', linestyle='--', label='Ku70')\n",
    "plt.axvline(x=732, color='m', linestyle='--', label='Ku80')\n",
    "plt.axvline(x=1026, color='g', linestyle='--', label='FAK')\n",
    "plt.axvline(x=4128, color='y', linestyle='--', label='DNA-PKcs')\n",
    "\n",
    "# Remove spines\n",
    "plt.gca().spines['left'].set_visible(False)\n",
    "plt.gca().spines['right'].set_visible(False)\n",
    "plt.gca().spines['top'].set_visible(False)\n",
    "\n",
    "# Set legend to upper right corner\n",
    "plt.legend(loc='upper right', frameon=False)\n",
    "\n",
    "# Set the figure filename\n",
    "figure_name = 'human_protein_histogram'\n",
    "\n",
    "# Save the figure in PDF, JPEG, and PNG formats\n",
    "plt.savefig(f'{figure_name}.pdf', bbox_inches='tight', dpi=300)\n",
    "plt.savefig(f'{figure_name}.jpeg', bbox_inches='tight', dpi=300)\n",
    "plt.savefig(f'{figure_name}.png', bbox_inches='tight', dpi=300, transparent=True)\n",
    "\n",
    "# Show the plot\n",
    "plt.show()"
   ]
  }
 ],
 "metadata": {
  "kernelspec": {
   "display_name": "Python 3 (ipykernel)",
   "language": "python",
   "name": "python3"
  },
  "language_info": {
   "codemirror_mode": {
    "name": "ipython",
    "version": 3
   },
   "file_extension": ".py",
   "mimetype": "text/x-python",
   "name": "python",
   "nbconvert_exporter": "python",
   "pygments_lexer": "ipython3",
   "version": "3.9.13"
  }
 },
 "nbformat": 4,
 "nbformat_minor": 5
}
