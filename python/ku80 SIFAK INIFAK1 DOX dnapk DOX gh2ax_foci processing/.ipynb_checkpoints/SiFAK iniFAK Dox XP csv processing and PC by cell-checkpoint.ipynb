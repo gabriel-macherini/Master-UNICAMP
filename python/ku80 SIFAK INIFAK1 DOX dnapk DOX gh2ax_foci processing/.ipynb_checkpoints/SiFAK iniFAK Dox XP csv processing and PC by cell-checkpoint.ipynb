{
 "cells": [
  {
   "cell_type": "code",
   "execution_count": 1,
   "id": "da89bcbd",
   "metadata": {},
   "outputs": [],
   "source": [
    "import pandas as pd\n",
    "from matplotlib import pyplot as plt\n",
    "from matplotlib.pyplot import figure\n",
    "import numpy as np\n",
    "import matplotlib as mpl\n",
    "import seaborn as sns\n",
    "from scipy.stats import ttest_ind\n",
    "import re\n",
    "%matplotlib inline"
   ]
  },
  {
   "cell_type": "code",
   "execution_count": 2,
   "id": "3e57d598",
   "metadata": {},
   "outputs": [],
   "source": [
    "# dados TODOS os rois\n",
    "df = pd.read_csv('data/KU80_INIFAK_SIFAK_DOX and DNAPK_DOX gh2ax_foci.csv')\n",
    "# ----------------------------------------------------------------------------------------------------------------------------------\n",
    "def coef_pc(data,nome_data):\n",
    "    '''Calcula coeficiente de pearson das colunas id_first e id_second da data selecionada com o nome da data'''\n",
    "    first_array = data['id_gh2ax'] \n",
    "    second_array = data['id_fak'] \n",
    "    pearson_first_second = np.corrcoef(first_array, second_array)[0][1]\n",
    "    print(\"O coeficiente de pearson do: \" + str(nome_data) + \" é \" + str(pearson_first_second))\n",
    "    string_para_print = (\"Correlação de pearson: \\n\" + str(pearson_first_second))\n",
    "    return string_para_print\n",
    "# ----------------------------------------------------------------------------------------------------------------------------------"
   ]
  },
  {
   "cell_type": "code",
   "execution_count": 3,
   "id": "55b70d6a",
   "metadata": {},
   "outputs": [],
   "source": [
    "df = df .drop(columns=['nucleos'])\n",
    "df['image'] = df['label'].str.extract(r'(\\d+)_Out_Channel')\n",
    "df['nucleo'] = df['label'].str.extract(r'nucleo_(\\d+)')"
   ]
  },
  {
   "cell_type": "code",
   "execution_count": 4,
   "id": "37b449c6",
   "metadata": {},
   "outputs": [],
   "source": [
    "df.to_csv(\"all_rois_clean.csv\", encoding=(\"utf-8-sig\"))"
   ]
  },
  {
   "cell_type": "code",
   "execution_count": 5,
   "id": "2d944d1f",
   "metadata": {},
   "outputs": [],
   "source": [
    "df_2 = pd.read_csv(\"all_rois_clean.csv\")"
   ]
  },
  {
   "cell_type": "code",
   "execution_count": 6,
   "id": "3a4b6c8c",
   "metadata": {},
   "outputs": [
    {
     "name": "stderr",
     "output_type": "stream",
     "text": [
      "C:\\Users\\the_s\\anaconda3\\lib\\site-packages\\numpy\\lib\\function_base.py:2683: RuntimeWarning: Degrees of freedom <= 0 for slice\n",
      "  c = cov(x, y, rowvar, dtype=dtype)\n",
      "C:\\Users\\the_s\\anaconda3\\lib\\site-packages\\numpy\\lib\\function_base.py:2542: RuntimeWarning: divide by zero encountered in true_divide\n",
      "  c *= np.true_divide(1, fact)\n",
      "C:\\Users\\the_s\\anaconda3\\lib\\site-packages\\numpy\\lib\\function_base.py:2542: RuntimeWarning: invalid value encountered in multiply\n",
      "  c *= np.true_divide(1, fact)\n",
      "C:\\Users\\the_s\\anaconda3\\lib\\site-packages\\numpy\\lib\\function_base.py:2683: RuntimeWarning: Degrees of freedom <= 0 for slice\n",
      "  c = cov(x, y, rowvar, dtype=dtype)\n",
      "C:\\Users\\the_s\\anaconda3\\lib\\site-packages\\numpy\\lib\\function_base.py:2542: RuntimeWarning: divide by zero encountered in true_divide\n",
      "  c *= np.true_divide(1, fact)\n",
      "C:\\Users\\the_s\\anaconda3\\lib\\site-packages\\numpy\\lib\\function_base.py:2542: RuntimeWarning: invalid value encountered in multiply\n",
      "  c *= np.true_divide(1, fact)\n",
      "C:\\Users\\the_s\\anaconda3\\lib\\site-packages\\numpy\\lib\\function_base.py:2683: RuntimeWarning: Degrees of freedom <= 0 for slice\n",
      "  c = cov(x, y, rowvar, dtype=dtype)\n",
      "C:\\Users\\the_s\\anaconda3\\lib\\site-packages\\numpy\\lib\\function_base.py:2542: RuntimeWarning: divide by zero encountered in true_divide\n",
      "  c *= np.true_divide(1, fact)\n",
      "C:\\Users\\the_s\\anaconda3\\lib\\site-packages\\numpy\\lib\\function_base.py:2542: RuntimeWarning: invalid value encountered in multiply\n",
      "  c *= np.true_divide(1, fact)\n",
      "C:\\Users\\the_s\\anaconda3\\lib\\site-packages\\numpy\\lib\\function_base.py:2683: RuntimeWarning: Degrees of freedom <= 0 for slice\n",
      "  c = cov(x, y, rowvar, dtype=dtype)\n",
      "C:\\Users\\the_s\\anaconda3\\lib\\site-packages\\numpy\\lib\\function_base.py:2542: RuntimeWarning: divide by zero encountered in true_divide\n",
      "  c *= np.true_divide(1, fact)\n",
      "C:\\Users\\the_s\\anaconda3\\lib\\site-packages\\numpy\\lib\\function_base.py:2542: RuntimeWarning: invalid value encountered in multiply\n",
      "  c *= np.true_divide(1, fact)\n",
      "C:\\Users\\the_s\\anaconda3\\lib\\site-packages\\numpy\\lib\\function_base.py:2683: RuntimeWarning: Degrees of freedom <= 0 for slice\n",
      "  c = cov(x, y, rowvar, dtype=dtype)\n",
      "C:\\Users\\the_s\\anaconda3\\lib\\site-packages\\numpy\\lib\\function_base.py:2542: RuntimeWarning: divide by zero encountered in true_divide\n",
      "  c *= np.true_divide(1, fact)\n",
      "C:\\Users\\the_s\\anaconda3\\lib\\site-packages\\numpy\\lib\\function_base.py:2542: RuntimeWarning: invalid value encountered in multiply\n",
      "  c *= np.true_divide(1, fact)\n"
     ]
    }
   ],
   "source": [
    "df_2 = df_2[df_2['prot'] != 'dnapk']\n",
    "tto_list = ['dox', 'dox_dmso', 'dox_pf', 'dox_sc', 'dox_sifak']\n",
    "\n",
    "pc_df_2 = pd.DataFrame()\n",
    "\n",
    "for tto in tto_list:\n",
    "    image_list = df_2[(df_2['tto'] == tto)][\"image\"].unique()\n",
    "    for image in image_list:\n",
    "        nucleos_list = df_2[(df_2['tto'] == tto) & (df_2['image'] == image)]['nucleo'].unique()\n",
    "        for nucleo in nucleos_list:\n",
    "            id_ku80 = df_2[(df_2['tto'] == tto) & (df_2['image'] == image) & (df_2['nucleo'] == nucleo)]['id_ku80']\n",
    "            id_gh2ax = df_2[(df_2['tto'] == tto) & (df_2['image'] == image) & (df_2['nucleo'] == nucleo)]['id_gh2ax']\n",
    "            id_fak = df_2[(df_2['tto'] == tto) & (df_2['image'] == image) & (df_2['nucleo'] == nucleo)]['id_fak']\n",
    "            total_rois = df_2[(df_2['tto'] == tto) & (df_2['image'] == image) & (df_2['nucleo'] == nucleo)].shape[0]\n",
    "        \n",
    "            pearson_id_gh2ax_id_ku80 = np.corrcoef(id_gh2ax, id_ku80)[0][1]\n",
    "            pearson_id_fak_id_ku80 = np.corrcoef(id_fak, id_ku80)[0][1]\n",
    "            pearson_id_fak_id_gh2ax = np.corrcoef(id_fak, id_gh2ax)[0][1]\n",
    "            \n",
    "            df_2_rcorr = pd.DataFrame(np.transpose([[image],[tto], [nucleo], [total_rois], [pearson_id_gh2ax_id_ku80], [pearson_id_fak_id_ku80], [pearson_id_fak_id_gh2ax]]), \n",
    "                                    columns=['image','tto', 'nucleo', 'nrois', 'pc_gh2ax_ku80', 'pc_fak_ku80', 'pc_gh2ax_fak'])\n",
    "            pc_df_2 = pd.concat([pc_df_2, df_2_rcorr], ignore_index=True)"
   ]
  },
  {
   "cell_type": "code",
   "execution_count": 7,
   "id": "3277c029",
   "metadata": {},
   "outputs": [],
   "source": [
    "pc_df_2['image'] = pc_df_2['image'].astype(float)\n",
    "pc_df_2 = pc_df_2.sort_values(['tto','image'])\n",
    "pc_df_2.to_csv(\"pc_cells.csv\")"
   ]
  }
 ],
 "metadata": {
  "kernelspec": {
   "display_name": "Python 3 (ipykernel)",
   "language": "python",
   "name": "python3"
  },
  "language_info": {
   "codemirror_mode": {
    "name": "ipython",
    "version": 3
   },
   "file_extension": ".py",
   "mimetype": "text/x-python",
   "name": "python",
   "nbconvert_exporter": "python",
   "pygments_lexer": "ipython3",
   "version": "3.9.13"
  }
 },
 "nbformat": 4,
 "nbformat_minor": 5
}
